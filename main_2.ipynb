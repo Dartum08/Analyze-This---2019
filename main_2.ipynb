{
  "nbformat": 4,
  "nbformat_minor": 0,
  "metadata": {
    "kernelspec": {
      "display_name": "Python 3",
      "language": "python",
      "name": "python3"
    },
    "language_info": {
      "codemirror_mode": {
        "name": "ipython",
        "version": 3
      },
      "file_extension": ".py",
      "mimetype": "text/x-python",
      "name": "python",
      "nbconvert_exporter": "python",
      "pygments_lexer": "ipython3",
      "version": "3.7.3"
    },
    "colab": {
      "name": "main_2.ipynb",
      "provenance": [],
      "toc_visible": true
    }
  },
  "cells": [
    {
      "cell_type": "markdown",
      "metadata": {
        "id": "1WLFr7ACcQfq",
        "colab_type": "text"
      },
      "source": [
        "# XGBoost"
      ]
    },
    {
      "cell_type": "code",
      "metadata": {
        "id": "C7gr4qcdcQfv",
        "colab_type": "code",
        "colab": {
          "base_uri": "https://localhost:8080/",
          "height": 72
        },
        "outputId": "a7ad3d6b-45db-4bf1-816d-4ca524c9049e"
      },
      "source": [
        "from numpy import loadtxt\n",
        "from sklearn.model_selection import train_test_split\n",
        "import pandas as pd\n",
        "import numpy as np\n",
        "import scipy as sp\n",
        "import seaborn as sns\n",
        "import matplotlib as mp\n",
        "import matplotlib.pyplot as plt\n",
        "%matplotlib inline"
      ],
      "execution_count": null,
      "outputs": [
        {
          "output_type": "stream",
          "text": [
            "/usr/local/lib/python3.6/dist-packages/statsmodels/tools/_testing.py:19: FutureWarning: pandas.util.testing is deprecated. Use the functions in the public API at pandas.testing instead.\n",
            "  import pandas.util.testing as tm\n"
          ],
          "name": "stderr"
        }
      ]
    },
    {
      "cell_type": "code",
      "metadata": {
        "id": "HQtXxX01cQf4",
        "colab_type": "code",
        "colab": {}
      },
      "source": [
        "url_train = '/content/sample_data/development_dataset.csv'\n",
        "#url_train = 'itrImputed.csv' #traing dataset\n",
        "#url_dict = './Dataset/Data_Dictionary.xlsx' #data dictionary\n",
        "#url_lead = 'itrImputedlead.csv' \n",
        "url_lead = '/content/sample_data/leaderboard_dataset.csv'"
      ],
      "execution_count": null,
      "outputs": []
    },
    {
      "cell_type": "code",
      "metadata": {
        "id": "MXBHvInecQf-",
        "colab_type": "code",
        "colab": {}
      },
      "source": [
        "## making dataframe\n",
        "#df_raw = pd.read_csv(url_raw)\n",
        "df_train = pd.read_csv(url_train)\n",
        "#df_dict = pd.read_excel(url_dict)\n",
        "df_lead = pd.read_csv(url_lead)\n",
        "\n",
        "#df_lead_raw = pd.read_csv(url_lead_raw)"
      ],
      "execution_count": null,
      "outputs": []
    },
    {
      "cell_type": "code",
      "metadata": {
        "id": "N2hlhaPTryUk",
        "colab_type": "code",
        "colab": {}
      },
      "source": [
        "#imp_lead = pd.read_csv('itrImputedlead.csv')"
      ],
      "execution_count": null,
      "outputs": []
    },
    {
      "cell_type": "code",
      "metadata": {
        "id": "u0bqBnjvr-mF",
        "colab_type": "code",
        "colab": {}
      },
      "source": [
        "#del imp_lead['Unnamed: 0']"
      ],
      "execution_count": null,
      "outputs": []
    },
    {
      "cell_type": "code",
      "metadata": {
        "id": "hTtgQjtksLIO",
        "colab_type": "code",
        "colab": {}
      },
      "source": [
        "#imp_lead.head()"
      ],
      "execution_count": null,
      "outputs": []
    },
    {
      "cell_type": "code",
      "metadata": {
        "id": "zdI74yNMmsl9",
        "colab_type": "code",
        "colab": {
          "base_uri": "https://localhost:8080/",
          "height": 158
        },
        "outputId": "bb9ee042-8634-483c-99a6-7b11b035e3a3"
      },
      "source": [
        "df_train.head(), len(df_train), len(df_lead)"
      ],
      "execution_count": null,
      "outputs": [
        {
          "output_type": "execute_result",
          "data": {
            "text/plain": [
              "(   VAR1        VAR2      VAR3        VAR4  ...  VAR18  VAR19       VAR20   VAR21\n",
              " 0     1  828.235294  0.138889  321.428571  ...      1      0  100.104991     Low\n",
              " 1     2  911.764706  0.027778         NaN  ...      0      1  146.654045    High\n",
              " 2     3  962.352941  0.833333   35.714286  ...      0      0   98.249570  Medium\n",
              " 3     4  892.941177       NaN         NaN  ...      1      0  140.862306     Low\n",
              " 4     5  914.117647  0.083333         NaN  ...      1      0  101.268503    High\n",
              " \n",
              " [5 rows x 21 columns], 34000, 10000)"
            ]
          },
          "metadata": {
            "tags": []
          },
          "execution_count": 8
        }
      ]
    },
    {
      "cell_type": "code",
      "metadata": {
        "id": "QtiMQvjbnWIn",
        "colab_type": "code",
        "colab": {
          "base_uri": "https://localhost:8080/",
          "height": 407
        },
        "outputId": "8cc813c6-a9b0-4a76-cfb3-fe5453c492e1"
      },
      "source": [
        "(df_train.isna().sum()/len(df_train))*100, sum(df_train.isna().sum())"
      ],
      "execution_count": null,
      "outputs": [
        {
          "output_type": "execute_result",
          "data": {
            "text/plain": [
              "(VAR1      0.000000\n",
              " VAR2      2.826471\n",
              " VAR3      9.955882\n",
              " VAR4     36.747059\n",
              " VAR5      0.002941\n",
              " VAR6     10.279412\n",
              " VAR7      2.455882\n",
              " VAR8      2.455882\n",
              " VAR9     46.520588\n",
              " VAR10    13.382353\n",
              " VAR11    22.250000\n",
              " VAR12    30.888235\n",
              " VAR13    25.064706\n",
              " VAR14     0.000000\n",
              " VAR15    23.600000\n",
              " VAR16     2.547059\n",
              " VAR17    65.276471\n",
              " VAR18     0.000000\n",
              " VAR19     0.000000\n",
              " VAR20     0.000000\n",
              " VAR21     0.000000\n",
              " dtype: float64, 100046)"
            ]
          },
          "metadata": {
            "tags": []
          },
          "execution_count": 14
        }
      ]
    },
    {
      "cell_type": "code",
      "metadata": {
        "id": "I7kLYAvccQgq",
        "colab_type": "code",
        "colab": {}
      },
      "source": [
        "df_train = df_train.replace(to_replace = '.', value =np.nan)\n",
        "df_lead = df_lead.replace(to_replace = '.', value =np.nan)"
      ],
      "execution_count": null,
      "outputs": []
    },
    {
      "cell_type": "code",
      "metadata": {
        "colab_type": "code",
        "id": "NdInhqEQnZc1",
        "colab": {
          "base_uri": "https://localhost:8080/",
          "height": 34
        },
        "outputId": "bf80917c-db2b-4a39-f4f8-0473cea450d5"
      },
      "source": [
        "sum(df_train.isna().sum())"
      ],
      "execution_count": null,
      "outputs": [
        {
          "output_type": "execute_result",
          "data": {
            "text/plain": [
              "100319"
            ]
          },
          "metadata": {
            "tags": []
          },
          "execution_count": 16
        }
      ]
    },
    {
      "cell_type": "code",
      "metadata": {
        "id": "hFLOnM4ZhEeH",
        "colab_type": "code",
        "colab": {}
      },
      "source": [
        "del df_train['Unnamed: 0']\n",
        "del df_train['0']"
      ],
      "execution_count": null,
      "outputs": []
    },
    {
      "cell_type": "code",
      "metadata": {
        "id": "7irwUhBPcQgz",
        "colab_type": "code",
        "colab": {}
      },
      "source": [
        "#df_train = df_train.iloc[:,1:]\n",
        "df_train.head(), len(df_train)"
      ],
      "execution_count": null,
      "outputs": []
    },
    {
      "cell_type": "code",
      "metadata": {
        "id": "S0S59Ri9cQhI",
        "colab_type": "code",
        "colab": {}
      },
      "source": [
        "lead_key = df_lead['VAR1'].tolist()\n",
        "#print(lead_key)"
      ],
      "execution_count": null,
      "outputs": []
    },
    {
      "cell_type": "code",
      "metadata": {
        "id": "txnoqBc2cQhx",
        "colab_type": "code",
        "colab": {}
      },
      "source": [
        "#df_lead = df_lead.iloc[:,1:]\n",
        "df_lead.head().isna().sum()"
      ],
      "execution_count": null,
      "outputs": []
    },
    {
      "cell_type": "markdown",
      "metadata": {
        "id": "zu5s0vVxcQh4",
        "colab_type": "text"
      },
      "source": [
        "### Scaling"
      ]
    },
    {
      "cell_type": "code",
      "metadata": {
        "id": "lDc3GJ0JcQh_",
        "colab_type": "code",
        "colab": {}
      },
      "source": [
        "from sklearn.preprocessing import StandardScaler\n",
        "#sc_X = StandardScaler()\n",
        "# X_train = sc_X.fit_transform(X_train)\n",
        "# X_test = sc_X.transform(X_test)\n",
        "#X_lead = sc_X.transform(X_lead)\n",
        "#X_oth = sc_X.fit_transform(X_oth)\n",
        "#sc_y = StandardScaler()\n",
        "#y_train = sc_y.fit_transform(y_train.reshape(-1,1))"
      ],
      "execution_count": null,
      "outputs": []
    },
    {
      "cell_type": "code",
      "metadata": {
        "id": "WyEnxangcQiI",
        "colab_type": "code",
        "colab": {}
      },
      "source": [
        "def percentile_linear(columns):\n",
        "    size = len(columns)-1\n",
        "    y = columns.rank(method='min').apply(lambda x: (x-1)/size)\n",
        "    return y"
      ],
      "execution_count": null,
      "outputs": []
    },
    {
      "cell_type": "code",
      "metadata": {
        "id": "MHsKWNjgcQiy",
        "colab_type": "code",
        "colab": {}
      },
      "source": [
        "# for i in df_train.columns[1:-1]:\n",
        "#     df_train[i] = percentile_linear(df_train[i])"
      ],
      "execution_count": null,
      "outputs": []
    },
    {
      "cell_type": "code",
      "metadata": {
        "id": "RriTFr1tcQjH",
        "colab_type": "code",
        "colab": {}
      },
      "source": [
        "# for i in df_lead.columns[1:]:\n",
        "#     df_lead[i] = percentile_linear(df_lead[i])"
      ],
      "execution_count": null,
      "outputs": []
    },
    {
      "cell_type": "code",
      "metadata": {
        "id": "cXI8HbiIcQjT",
        "colab_type": "code",
        "colab": {}
      },
      "source": [
        "#df_train.columns"
      ],
      "execution_count": null,
      "outputs": []
    },
    {
      "cell_type": "code",
      "metadata": {
        "id": "Qb-my3nocQjs",
        "colab_type": "code",
        "colab": {}
      },
      "source": [
        "#df_lead.head()"
      ],
      "execution_count": null,
      "outputs": []
    },
    {
      "cell_type": "markdown",
      "metadata": {
        "id": "HcuQpr5XcQj3",
        "colab_type": "text"
      },
      "source": [
        "#### Dropping features"
      ]
    },
    {
      "cell_type": "code",
      "metadata": {
        "id": "hkmSoHjbcQj6",
        "colab_type": "code",
        "colab": {}
      },
      "source": [
        "drop_list1 = ['VAR5','VAR11','VAR17']\n",
        "drop_list2 = ['VAR19','VAR18']\n",
        "drop_list3 = ['VAR14'] #9"
      ],
      "execution_count": null,
      "outputs": []
    },
    {
      "cell_type": "code",
      "metadata": {
        "id": "JZUTRKpxcQkG",
        "colab_type": "code",
        "colab": {}
      },
      "source": [
        "df_train = df_train.drop(drop_list2,axis=1)\n",
        "df_lead = df_lead.drop(drop_list2,axis=1)"
      ],
      "execution_count": null,
      "outputs": []
    },
    {
      "cell_type": "code",
      "metadata": {
        "id": "0QZPylpDcQko",
        "colab_type": "code",
        "colab": {},
        "outputId": "54c317d4-89b5-4644-cfcb-83632f3b7d4c"
      },
      "source": [
        "df_train.head()"
      ],
      "execution_count": null,
      "outputs": [
        {
          "output_type": "execute_result",
          "data": {
            "text/html": [
              "<div>\n",
              "<style scoped>\n",
              "    .dataframe tbody tr th:only-of-type {\n",
              "        vertical-align: middle;\n",
              "    }\n",
              "\n",
              "    .dataframe tbody tr th {\n",
              "        vertical-align: top;\n",
              "    }\n",
              "\n",
              "    .dataframe thead th {\n",
              "        text-align: right;\n",
              "    }\n",
              "</style>\n",
              "<table border=\"1\" class=\"dataframe\">\n",
              "  <thead>\n",
              "    <tr style=\"text-align: right;\">\n",
              "      <th></th>\n",
              "      <th>VAR1</th>\n",
              "      <th>VAR2</th>\n",
              "      <th>VAR3</th>\n",
              "      <th>VAR4</th>\n",
              "      <th>VAR5</th>\n",
              "      <th>VAR6</th>\n",
              "      <th>VAR7</th>\n",
              "      <th>VAR8</th>\n",
              "      <th>VAR9</th>\n",
              "      <th>VAR10</th>\n",
              "      <th>VAR11</th>\n",
              "      <th>VAR12</th>\n",
              "      <th>VAR13</th>\n",
              "      <th>VAR15</th>\n",
              "      <th>VAR16</th>\n",
              "      <th>VAR17</th>\n",
              "      <th>VAR20</th>\n",
              "      <th>VAR21</th>\n",
              "    </tr>\n",
              "  </thead>\n",
              "  <tbody>\n",
              "    <tr>\n",
              "      <th>0</th>\n",
              "      <td>1</td>\n",
              "      <td>828.235294</td>\n",
              "      <td>0.138889</td>\n",
              "      <td>321.428571</td>\n",
              "      <td>625.911006</td>\n",
              "      <td>1.818182</td>\n",
              "      <td>1.081550</td>\n",
              "      <td>198.113469</td>\n",
              "      <td>NaN</td>\n",
              "      <td>58.632548</td>\n",
              "      <td>0.279273</td>\n",
              "      <td>100.083403</td>\n",
              "      <td>1.0</td>\n",
              "      <td>1.0</td>\n",
              "      <td>1.540594</td>\n",
              "      <td>NaN</td>\n",
              "      <td>100.104991</td>\n",
              "      <td>1</td>\n",
              "    </tr>\n",
              "    <tr>\n",
              "      <th>1</th>\n",
              "      <td>2</td>\n",
              "      <td>911.764706</td>\n",
              "      <td>0.027778</td>\n",
              "      <td>NaN</td>\n",
              "      <td>611.574748</td>\n",
              "      <td>8.181818</td>\n",
              "      <td>1.344479</td>\n",
              "      <td>198.600020</td>\n",
              "      <td>22.086661</td>\n",
              "      <td>NaN</td>\n",
              "      <td>NaN</td>\n",
              "      <td>15.012510</td>\n",
              "      <td>NaN</td>\n",
              "      <td>NaN</td>\n",
              "      <td>1.614613</td>\n",
              "      <td>NaN</td>\n",
              "      <td>146.654045</td>\n",
              "      <td>0</td>\n",
              "    </tr>\n",
              "    <tr>\n",
              "      <th>2</th>\n",
              "      <td>3</td>\n",
              "      <td>962.352941</td>\n",
              "      <td>0.833333</td>\n",
              "      <td>35.714286</td>\n",
              "      <td>615.825381</td>\n",
              "      <td>8.181818</td>\n",
              "      <td>0.720796</td>\n",
              "      <td>197.267767</td>\n",
              "      <td>NaN</td>\n",
              "      <td>58.632548</td>\n",
              "      <td>0.453212</td>\n",
              "      <td>210.175146</td>\n",
              "      <td>10.0</td>\n",
              "      <td>10.0</td>\n",
              "      <td>1.044599</td>\n",
              "      <td>NaN</td>\n",
              "      <td>98.249570</td>\n",
              "      <td>2</td>\n",
              "    </tr>\n",
              "    <tr>\n",
              "      <th>3</th>\n",
              "      <td>4</td>\n",
              "      <td>892.941177</td>\n",
              "      <td>NaN</td>\n",
              "      <td>NaN</td>\n",
              "      <td>638.076431</td>\n",
              "      <td>9.090909</td>\n",
              "      <td>0.820218</td>\n",
              "      <td>197.355744</td>\n",
              "      <td>4.363431</td>\n",
              "      <td>58.632548</td>\n",
              "      <td>NaN</td>\n",
              "      <td>NaN</td>\n",
              "      <td>NaN</td>\n",
              "      <td>NaN</td>\n",
              "      <td>1.145729</td>\n",
              "      <td>NaN</td>\n",
              "      <td>140.862306</td>\n",
              "      <td>1</td>\n",
              "    </tr>\n",
              "    <tr>\n",
              "      <th>4</th>\n",
              "      <td>5</td>\n",
              "      <td>914.117647</td>\n",
              "      <td>0.083333</td>\n",
              "      <td>NaN</td>\n",
              "      <td>626.514988</td>\n",
              "      <td>5.181818</td>\n",
              "      <td>1.372928</td>\n",
              "      <td>198.790477</td>\n",
              "      <td>85.938202</td>\n",
              "      <td>58.632548</td>\n",
              "      <td>NaN</td>\n",
              "      <td>210.175146</td>\n",
              "      <td>NaN</td>\n",
              "      <td>NaN</td>\n",
              "      <td>1.558341</td>\n",
              "      <td>NaN</td>\n",
              "      <td>101.268503</td>\n",
              "      <td>0</td>\n",
              "    </tr>\n",
              "  </tbody>\n",
              "</table>\n",
              "</div>"
            ],
            "text/plain": [
              "   VAR1        VAR2      VAR3        VAR4        VAR5      VAR6      VAR7  \\\n",
              "0     1  828.235294  0.138889  321.428571  625.911006  1.818182  1.081550   \n",
              "1     2  911.764706  0.027778         NaN  611.574748  8.181818  1.344479   \n",
              "2     3  962.352941  0.833333   35.714286  615.825381  8.181818  0.720796   \n",
              "3     4  892.941177       NaN         NaN  638.076431  9.090909  0.820218   \n",
              "4     5  914.117647  0.083333         NaN  626.514988  5.181818  1.372928   \n",
              "\n",
              "         VAR8       VAR9      VAR10     VAR11       VAR12  VAR13  VAR15  \\\n",
              "0  198.113469        NaN  58.632548  0.279273  100.083403    1.0    1.0   \n",
              "1  198.600020  22.086661        NaN       NaN   15.012510    NaN    NaN   \n",
              "2  197.267767        NaN  58.632548  0.453212  210.175146   10.0   10.0   \n",
              "3  197.355744   4.363431  58.632548       NaN         NaN    NaN    NaN   \n",
              "4  198.790477  85.938202  58.632548       NaN  210.175146    NaN    NaN   \n",
              "\n",
              "      VAR16  VAR17       VAR20  VAR21  \n",
              "0  1.540594    NaN  100.104991      1  \n",
              "1  1.614613    NaN  146.654045      0  \n",
              "2  1.044599    NaN   98.249570      2  \n",
              "3  1.145729    NaN  140.862306      1  \n",
              "4  1.558341    NaN  101.268503      0  "
            ]
          },
          "metadata": {
            "tags": []
          },
          "execution_count": 44
        }
      ]
    },
    {
      "cell_type": "code",
      "metadata": {
        "id": "V75jOz0_cQkz",
        "colab_type": "code",
        "colab": {},
        "outputId": "c5960ea3-f44c-40a8-e72c-c60bf6b37180"
      },
      "source": [
        "df_lead.head()"
      ],
      "execution_count": null,
      "outputs": [
        {
          "output_type": "execute_result",
          "data": {
            "text/html": [
              "<div>\n",
              "<style scoped>\n",
              "    .dataframe tbody tr th:only-of-type {\n",
              "        vertical-align: middle;\n",
              "    }\n",
              "\n",
              "    .dataframe tbody tr th {\n",
              "        vertical-align: top;\n",
              "    }\n",
              "\n",
              "    .dataframe thead th {\n",
              "        text-align: right;\n",
              "    }\n",
              "</style>\n",
              "<table border=\"1\" class=\"dataframe\">\n",
              "  <thead>\n",
              "    <tr style=\"text-align: right;\">\n",
              "      <th></th>\n",
              "      <th>VAR1</th>\n",
              "      <th>VAR2</th>\n",
              "      <th>VAR3</th>\n",
              "      <th>VAR4</th>\n",
              "      <th>VAR5</th>\n",
              "      <th>VAR6</th>\n",
              "      <th>VAR7</th>\n",
              "      <th>VAR8</th>\n",
              "      <th>VAR9</th>\n",
              "      <th>VAR10</th>\n",
              "      <th>VAR11</th>\n",
              "      <th>VAR12</th>\n",
              "      <th>VAR13</th>\n",
              "      <th>VAR15</th>\n",
              "      <th>VAR16</th>\n",
              "      <th>VAR17</th>\n",
              "      <th>VAR20</th>\n",
              "    </tr>\n",
              "  </thead>\n",
              "  <tbody>\n",
              "    <tr>\n",
              "      <th>0</th>\n",
              "      <td>1</td>\n",
              "      <td>878.823529</td>\n",
              "      <td>0.833333</td>\n",
              "      <td>821.428571</td>\n",
              "      <td>620.835806</td>\n",
              "      <td>5.181818</td>\n",
              "      <td>0.833974</td>\n",
              "      <td>197.500187</td>\n",
              "      <td>NaN</td>\n",
              "      <td>58.632548</td>\n",
              "      <td>9.433609</td>\n",
              "      <td>40.033361</td>\n",
              "      <td>10.000000</td>\n",
              "      <td>10.000000</td>\n",
              "      <td>1.212784</td>\n",
              "      <td>1000.00</td>\n",
              "      <td>48.099828</td>\n",
              "    </tr>\n",
              "    <tr>\n",
              "      <th>1</th>\n",
              "      <td>2</td>\n",
              "      <td>891.764706</td>\n",
              "      <td>0.138889</td>\n",
              "      <td>357.142857</td>\n",
              "      <td>614.092215</td>\n",
              "      <td>3.909091</td>\n",
              "      <td>0.595187</td>\n",
              "      <td>197.016843</td>\n",
              "      <td>253.896073</td>\n",
              "      <td>58.632548</td>\n",
              "      <td>10.144612</td>\n",
              "      <td>NaN</td>\n",
              "      <td>5.666667</td>\n",
              "      <td>7.600000</td>\n",
              "      <td>1.004907</td>\n",
              "      <td>992.55</td>\n",
              "      <td>104.018933</td>\n",
              "    </tr>\n",
              "    <tr>\n",
              "      <th>2</th>\n",
              "      <td>3</td>\n",
              "      <td>955.294118</td>\n",
              "      <td>0.055556</td>\n",
              "      <td>NaN</td>\n",
              "      <td>611.574748</td>\n",
              "      <td>6.363636</td>\n",
              "      <td>0.918652</td>\n",
              "      <td>197.660051</td>\n",
              "      <td>22.086661</td>\n",
              "      <td>NaN</td>\n",
              "      <td>0.583494</td>\n",
              "      <td>NaN</td>\n",
              "      <td>6.000000</td>\n",
              "      <td>6.000000</td>\n",
              "      <td>1.157115</td>\n",
              "      <td>NaN</td>\n",
              "      <td>120.586919</td>\n",
              "    </tr>\n",
              "    <tr>\n",
              "      <th>3</th>\n",
              "      <td>4</td>\n",
              "      <td>831.764706</td>\n",
              "      <td>0.111111</td>\n",
              "      <td>250.000000</td>\n",
              "      <td>617.740617</td>\n",
              "      <td>6.545455</td>\n",
              "      <td>2.383924</td>\n",
              "      <td>200.526288</td>\n",
              "      <td>NaN</td>\n",
              "      <td>48.539365</td>\n",
              "      <td>NaN</td>\n",
              "      <td>NaN</td>\n",
              "      <td>NaN</td>\n",
              "      <td>NaN</td>\n",
              "      <td>2.350858</td>\n",
              "      <td>NaN</td>\n",
              "      <td>168.592083</td>\n",
              "    </tr>\n",
              "    <tr>\n",
              "      <th>4</th>\n",
              "      <td>5</td>\n",
              "      <td>957.647059</td>\n",
              "      <td>0.166667</td>\n",
              "      <td>NaN</td>\n",
              "      <td>623.426802</td>\n",
              "      <td>NaN</td>\n",
              "      <td>0.711240</td>\n",
              "      <td>197.151458</td>\n",
              "      <td>5.013668</td>\n",
              "      <td>49.379748</td>\n",
              "      <td>0.255712</td>\n",
              "      <td>NaN</td>\n",
              "      <td>13.333333</td>\n",
              "      <td>13.333333</td>\n",
              "      <td>1.171551</td>\n",
              "      <td>NaN</td>\n",
              "      <td>109.204819</td>\n",
              "    </tr>\n",
              "  </tbody>\n",
              "</table>\n",
              "</div>"
            ],
            "text/plain": [
              "   VAR1        VAR2      VAR3        VAR4        VAR5      VAR6      VAR7  \\\n",
              "0     1  878.823529  0.833333  821.428571  620.835806  5.181818  0.833974   \n",
              "1     2  891.764706  0.138889  357.142857  614.092215  3.909091  0.595187   \n",
              "2     3  955.294118  0.055556         NaN  611.574748  6.363636  0.918652   \n",
              "3     4  831.764706  0.111111  250.000000  617.740617  6.545455  2.383924   \n",
              "4     5  957.647059  0.166667         NaN  623.426802       NaN  0.711240   \n",
              "\n",
              "         VAR8        VAR9      VAR10      VAR11      VAR12      VAR13  \\\n",
              "0  197.500187         NaN  58.632548   9.433609  40.033361  10.000000   \n",
              "1  197.016843  253.896073  58.632548  10.144612        NaN   5.666667   \n",
              "2  197.660051   22.086661        NaN   0.583494        NaN   6.000000   \n",
              "3  200.526288         NaN  48.539365        NaN        NaN        NaN   \n",
              "4  197.151458    5.013668  49.379748   0.255712        NaN  13.333333   \n",
              "\n",
              "       VAR15     VAR16    VAR17       VAR20  \n",
              "0  10.000000  1.212784  1000.00   48.099828  \n",
              "1   7.600000  1.004907   992.55  104.018933  \n",
              "2   6.000000  1.157115      NaN  120.586919  \n",
              "3        NaN  2.350858      NaN  168.592083  \n",
              "4  13.333333  1.171551      NaN  109.204819  "
            ]
          },
          "metadata": {
            "tags": []
          },
          "execution_count": 45
        }
      ]
    },
    {
      "cell_type": "markdown",
      "metadata": {
        "id": "w_UKNheccQlB",
        "colab_type": "text"
      },
      "source": [
        "### Label Encoding"
      ]
    },
    {
      "cell_type": "code",
      "metadata": {
        "id": "z_sPBBe-cQlG",
        "colab_type": "code",
        "colab": {}
      },
      "source": [
        "X = df_train.iloc[:, 1:-1].values\n",
        "y = df_train.iloc[:, -1].values\n",
        "\n",
        "X_lead = df_lead.iloc[:, 1:].values"
      ],
      "execution_count": null,
      "outputs": []
    },
    {
      "cell_type": "code",
      "metadata": {
        "id": "skYDXk7AcQlc",
        "colab_type": "code",
        "colab": {}
      },
      "source": [
        "# label Encoding\n",
        "from sklearn.preprocessing import LabelEncoder, OneHotEncoder\n",
        "\n",
        "labelencoder_X = LabelEncoder()\n",
        "#X[:, 11] = labelencoder_X.fit_transform(X[:, 11])\n",
        "\n",
        "labelencoder_y = LabelEncoder()\n",
        "y = labelencoder_y.fit_transform(y)"
      ],
      "execution_count": null,
      "outputs": []
    },
    {
      "cell_type": "code",
      "metadata": {
        "id": "xm7Q4PwPcQlt",
        "colab_type": "code",
        "colab": {
          "base_uri": "https://localhost:8080/",
          "height": 34
        },
        "outputId": "744b0ea3-beff-4fbc-b779-713fb5d4e94f"
      },
      "source": [
        "y"
      ],
      "execution_count": null,
      "outputs": [
        {
          "output_type": "execute_result",
          "data": {
            "text/plain": [
              "array([1, 0, 2, ..., 1, 1, 0])"
            ]
          },
          "metadata": {
            "tags": []
          },
          "execution_count": 21
        }
      ]
    },
    {
      "cell_type": "markdown",
      "metadata": {
        "id": "3eMNrWPVcQl2",
        "colab_type": "text"
      },
      "source": [
        "### Class Imbalance"
      ]
    },
    {
      "cell_type": "code",
      "metadata": {
        "id": "mqwmsdZ0cQl8",
        "colab_type": "code",
        "colab": {
          "base_uri": "https://localhost:8080/",
          "height": 312
        },
        "outputId": "dc3e38b3-9e94-4190-c3c0-f38edf6f848f"
      },
      "source": [
        "count_classes = pd.value_counts(df_train['VAR21'], sort = True)\n",
        "count_classes.plot(kind = 'bar', rot=0)\n",
        "plt.title(\"Credit Card limit\")\n",
        "#plt.xticks(range(2), LABELS)\n",
        "plt.xlabel(\"Class\")\n",
        "plt.ylabel(\"Frequency\")"
      ],
      "execution_count": null,
      "outputs": [
        {
          "output_type": "execute_result",
          "data": {
            "text/plain": [
              "Text(0, 0.5, 'Frequency')"
            ]
          },
          "metadata": {
            "tags": []
          },
          "execution_count": 18
        },
        {
          "output_type": "display_data",
          "data": {
            "image/png": "[encoded data removed]",
            "text/plain": [
              "<Figure size 432x288 with 1 Axes>"
            ]
          },
          "metadata": {
            "tags": [],
            "needs_background": "light"
          }
        }
      ]
    },
    {
      "cell_type": "code",
      "metadata": {
        "id": "_mKGZb7FcQmT",
        "colab_type": "code",
        "colab": {}
      },
      "source": [
        "from collections import Counter\n",
        "from imblearn.combine import SMOTETomek\n",
        "from imblearn.under_sampling import NearMiss\n",
        "from imblearn.over_sampling import RandomOverSampler"
      ],
      "execution_count": null,
      "outputs": []
    },
    {
      "cell_type": "code",
      "metadata": {
        "id": "ksjBGs57cQmh",
        "colab_type": "code",
        "colab": {}
      },
      "source": [
        "# Implementing Oversampling for Handling Imbalanced \n",
        "#smk = SMOTETomek(random_state=42)\n",
        "#X_res,y_res=smk.fit_sample(X,y)"
      ],
      "execution_count": null,
      "outputs": []
    },
    {
      "cell_type": "code",
      "metadata": {
        "id": "jU_qnuJecQms",
        "colab_type": "code",
        "colab": {}
      },
      "source": [
        "#X_res.shape,y_res.shape"
      ],
      "execution_count": null,
      "outputs": []
    },
    {
      "cell_type": "code",
      "metadata": {
        "id": "sYyR9XBacQnH",
        "colab_type": "code",
        "colab": {
          "base_uri": "https://localhost:8080/",
          "height": 34
        },
        "outputId": "6ace96ad-87e0-49dd-c97d-12e6e2b1e1f7"
      },
      "source": [
        "from collections import Counter\n",
        "print('Original dataset shape {}'.format(Counter(y)))\n",
        "#print('Resampled dataset shape {}'.format(Counter(y_res)))"
      ],
      "execution_count": null,
      "outputs": [
        {
          "output_type": "stream",
          "text": [
            "Original dataset shape Counter({2: 18172, 1: 12081, 0: 3747})\n"
          ],
          "name": "stdout"
        }
      ]
    },
    {
      "cell_type": "markdown",
      "metadata": {
        "id": "5BpAex-QcQnS",
        "colab_type": "text"
      },
      "source": [
        "### Splitting"
      ]
    },
    {
      "cell_type": "code",
      "metadata": {
        "id": "310fzZeAcQnU",
        "colab_type": "code",
        "colab": {}
      },
      "source": [
        "# split data into train and test sets\n",
        "seed = 42\n",
        "test_size = 0.25\n",
        "X_train, X_test, y_train, y_test = train_test_split(X, y, test_size=test_size, random_state=seed)"
      ],
      "execution_count": null,
      "outputs": []
    },
    {
      "cell_type": "code",
      "metadata": {
        "id": "UKPC_6wTcQng",
        "colab_type": "code",
        "colab": {}
      },
      "source": [
        "#X_lead = sc_X.transform(X_lead)\n",
        "X_train.shape"
      ],
      "execution_count": null,
      "outputs": []
    },
    {
      "cell_type": "markdown",
      "metadata": {
        "id": "Cdit6XSRcQn1",
        "colab_type": "text"
      },
      "source": [
        "#### Fitting Model & Evaluation"
      ]
    },
    {
      "cell_type": "code",
      "metadata": {
        "id": "5UtTrkk_cQn4",
        "colab_type": "code",
        "colab": {}
      },
      "source": [
        "from sklearn.metrics import f1_score,confusion_matrix\n",
        "from sklearn.metrics import accuracy_score\n",
        "from xgboost import XGBClassifier\n",
        "from sklearn.metrics import accuracy_score\n",
        "from sklearn.model_selection import KFold\n",
        "from sklearn.model_selection import cross_val_score"
      ],
      "execution_count": null,
      "outputs": []
    },
    {
      "cell_type": "code",
      "metadata": {
        "id": "8wLEm9gJcQoP",
        "colab_type": "code",
        "colab": {}
      },
      "source": [
        "# fit model no training data\n",
        "modelxgb = XGBClassifier()"
      ],
      "execution_count": null,
      "outputs": []
    },
    {
      "cell_type": "code",
      "metadata": {
        "id": "bxHYh8rrcQoa",
        "colab_type": "code",
        "colab": {}
      },
      "source": [
        "modelxgb.fit(X_train, y_train)"
      ],
      "execution_count": null,
      "outputs": []
    },
    {
      "cell_type": "code",
      "metadata": {
        "id": "yOusV-CwcQo3",
        "colab_type": "code",
        "colab": {}
      },
      "source": [
        "# make predictions for test data\n",
        "y_pred = modelxgb.predict(X_test)\n",
        "predictions = [round(value) for value in y_pred]"
      ],
      "execution_count": null,
      "outputs": []
    },
    {
      "cell_type": "code",
      "metadata": {
        "id": "ujHFS0bAcQpG",
        "colab_type": "code",
        "colab": {}
      },
      "source": [
        "y_pred"
      ],
      "execution_count": null,
      "outputs": []
    },
    {
      "cell_type": "code",
      "metadata": {
        "id": "GCBXpHVBcQpO",
        "colab_type": "code",
        "colab": {}
      },
      "source": [
        "#predictions"
      ],
      "execution_count": null,
      "outputs": []
    },
    {
      "cell_type": "code",
      "metadata": {
        "id": "BBDWAfmacQpZ",
        "colab_type": "code",
        "colab": {}
      },
      "source": [
        "# evaluate predictions\n",
        "accuracy = accuracy_score(y_test, predictions)\n",
        "print(\"Accuracy: %.2f%%\" % (accuracy * 100.0))"
      ],
      "execution_count": null,
      "outputs": []
    },
    {
      "cell_type": "code",
      "metadata": {
        "id": "Npyj6QxZcQpk",
        "colab_type": "code",
        "colab": {}
      },
      "source": [
        "cm = confusion_matrix(y_test,y_pred)\n",
        "sns.heatmap(cm,annot=True,fmt=\"d\")"
      ],
      "execution_count": null,
      "outputs": []
    },
    {
      "cell_type": "markdown",
      "metadata": {
        "id": "izIfXK7OcQpt",
        "colab_type": "text"
      },
      "source": [
        "### K-Fold CV"
      ]
    },
    {
      "cell_type": "code",
      "metadata": {
        "id": "v_xU59-ZcQpv",
        "colab_type": "code",
        "colab": {}
      },
      "source": [
        "modelxgbkfold = XGBClassifier()"
      ],
      "execution_count": null,
      "outputs": []
    },
    {
      "cell_type": "code",
      "metadata": {
        "id": "2beDeKJzcQp5",
        "colab_type": "code",
        "colab": {}
      },
      "source": [
        "kfold = KFold(n_splits=5, random_state=7)\n",
        "result = cross_val_score(modelxgbkfold, X_train, y_train, cv=kfold, scoring='accuracy')"
      ],
      "execution_count": null,
      "outputs": []
    },
    {
      "cell_type": "code",
      "metadata": {
        "id": "OhTat_CJcQqB",
        "colab_type": "code",
        "colab": {}
      },
      "source": [
        "result.mean()"
      ],
      "execution_count": null,
      "outputs": []
    },
    {
      "cell_type": "markdown",
      "metadata": {
        "id": "bAhbJmTYcQqZ",
        "colab_type": "text"
      },
      "source": [
        "#### Leaderboard Prediction"
      ]
    },
    {
      "cell_type": "code",
      "metadata": {
        "id": "mdl0i0WNcQqj",
        "colab_type": "code",
        "colab": {}
      },
      "source": [
        "y_lead = modelxgb.predict(X_lead)"
      ],
      "execution_count": null,
      "outputs": []
    },
    {
      "cell_type": "code",
      "metadata": {
        "id": "XWvVHBK4cQqs",
        "colab_type": "code",
        "colab": {}
      },
      "source": [
        "y_lead_ = y_lead.tolist()"
      ],
      "execution_count": null,
      "outputs": []
    },
    {
      "cell_type": "code",
      "metadata": {
        "id": "Ahr9CkNTcQq1",
        "colab_type": "code",
        "colab": {}
      },
      "source": [
        "len(lead_key)"
      ],
      "execution_count": null,
      "outputs": []
    },
    {
      "cell_type": "code",
      "metadata": {
        "id": "SwkIvXCtcQrZ",
        "colab_type": "code",
        "colab": {}
      },
      "source": [
        "len(y_lead_)"
      ],
      "execution_count": null,
      "outputs": []
    },
    {
      "cell_type": "code",
      "metadata": {
        "id": "tAANXWcHcQro",
        "colab_type": "code",
        "colab": {}
      },
      "source": [
        "ylead = labelencoder_y.inverse_transform(y_lead_)"
      ],
      "execution_count": null,
      "outputs": []
    },
    {
      "cell_type": "code",
      "metadata": {
        "id": "XTMge__IcQt9",
        "colab_type": "code",
        "colab": {}
      },
      "source": [
        "ylead"
      ],
      "execution_count": null,
      "outputs": []
    },
    {
      "cell_type": "code",
      "metadata": {
        "id": "s2k-IXZBcQuE",
        "colab_type": "code",
        "colab": {}
      },
      "source": [
        "n_count_classes = pd.value_counts(ylead, sort = True)\n",
        "n_count_classes.plot(kind = 'bar', rot=0)\n",
        "plt.title(\"Credit Card limit\")\n",
        "#plt.xticks(range(2), LABELS)\n",
        "plt.xlabel(\"Class\")\n",
        "plt.ylabel(\"Frequency\")"
      ],
      "execution_count": null,
      "outputs": []
    },
    {
      "cell_type": "code",
      "metadata": {
        "id": "LrvebtFicQuY",
        "colab_type": "code",
        "colab": {}
      },
      "source": [
        "dfxyz = pd.DataFrame(ylead,lead_key)"
      ],
      "execution_count": null,
      "outputs": []
    },
    {
      "cell_type": "code",
      "metadata": {
        "id": "Co9Cbe2pcQu_",
        "colab_type": "code",
        "colab": {}
      },
      "source": [
        "dfxyz.head()"
      ],
      "execution_count": null,
      "outputs": []
    },
    {
      "cell_type": "code",
      "metadata": {
        "id": "4BQa0zNjcQvE",
        "colab_type": "code",
        "colab": {}
      },
      "source": [
        "#dfxyz.to_csv('Anonymous_IITRoorkee_9.csv',header=False)"
      ],
      "execution_count": null,
      "outputs": []
    },
    {
      "cell_type": "markdown",
      "metadata": {
        "id": "RthHgZW6cQvH",
        "colab_type": "text"
      },
      "source": [
        "#### Feature Importance and Selection"
      ]
    },
    {
      "cell_type": "code",
      "metadata": {
        "id": "VGE8jyKfcQvJ",
        "colab_type": "code",
        "colab": {}
      },
      "source": [
        "print(modelxgb.feature_importances_) #use inbuilt class feature_importances of tree based classifiers"
      ],
      "execution_count": null,
      "outputs": []
    },
    {
      "cell_type": "code",
      "metadata": {
        "id": "Pft1wEaxcQvR",
        "colab_type": "code",
        "colab": {}
      },
      "source": [
        "col = df_train.columns[1:-1]\n",
        "len(col)"
      ],
      "execution_count": null,
      "outputs": []
    },
    {
      "cell_type": "code",
      "metadata": {
        "id": "5CxV4U5KcQvX",
        "colab_type": "code",
        "colab": {}
      },
      "source": [
        "#plot graph of feature importances for better visualization\n",
        "feat_importances = pd.Series(modelxgb.feature_importances_, index=col)\n",
        "feat_importances.nlargest(15).plot(kind='barh')\n",
        "plt.show()"
      ],
      "execution_count": null,
      "outputs": []
    },
    {
      "cell_type": "markdown",
      "metadata": {
        "id": "c2c72BFCcQvb",
        "colab_type": "text"
      },
      "source": [
        "#### Hyper Parameter Tuning"
      ]
    },
    {
      "cell_type": "code",
      "metadata": {
        "id": "ZhkuC8NKcQvc",
        "colab_type": "code",
        "colab": {}
      },
      "source": [
        "import xgboost as xgb\n",
        "from xgboost.sklearn import XGBClassifier\n",
        "from sklearn import metrics   #Additional scklearn functions\n",
        "from sklearn.model_selection import GridSearchCV   #Perforing grid search\n",
        "from matplotlib.pylab import rcParams\n",
        "rcParams['figure.figsize'] = 12, 4\n",
        "\n",
        "target = 'VAR21'\n",
        "IDcol = 'VAR1'"
      ],
      "execution_count": null,
      "outputs": []
    },
    {
      "cell_type": "code",
      "metadata": {
        "id": "MgX09ZG7cQvh",
        "colab_type": "code",
        "colab": {
          "base_uri": "https://localhost:8080/",
          "height": 224
        },
        "outputId": "25c65c58-8369-4edc-a3a2-7148366a922b"
      },
      "source": [
        "train = df_train\n",
        "train.head()"
      ],
      "execution_count": null,
      "outputs": [
        {
          "output_type": "execute_result",
          "data": {
            "text/html": [
              "<div>\n",
              "<style scoped>\n",
              "    .dataframe tbody tr th:only-of-type {\n",
              "        vertical-align: middle;\n",
              "    }\n",
              "\n",
              "    .dataframe tbody tr th {\n",
              "        vertical-align: top;\n",
              "    }\n",
              "\n",
              "    .dataframe thead th {\n",
              "        text-align: right;\n",
              "    }\n",
              "</style>\n",
              "<table border=\"1\" class=\"dataframe\">\n",
              "  <thead>\n",
              "    <tr style=\"text-align: right;\">\n",
              "      <th></th>\n",
              "      <th>VAR1</th>\n",
              "      <th>VAR2</th>\n",
              "      <th>VAR3</th>\n",
              "      <th>VAR4</th>\n",
              "      <th>VAR5</th>\n",
              "      <th>VAR6</th>\n",
              "      <th>VAR7</th>\n",
              "      <th>VAR8</th>\n",
              "      <th>VAR9</th>\n",
              "      <th>VAR10</th>\n",
              "      <th>VAR11</th>\n",
              "      <th>VAR12</th>\n",
              "      <th>VAR13</th>\n",
              "      <th>VAR14</th>\n",
              "      <th>VAR15</th>\n",
              "      <th>VAR16</th>\n",
              "      <th>VAR17</th>\n",
              "      <th>VAR18</th>\n",
              "      <th>VAR19</th>\n",
              "      <th>VAR20</th>\n",
              "      <th>VAR21</th>\n",
              "    </tr>\n",
              "  </thead>\n",
              "  <tbody>\n",
              "    <tr>\n",
              "      <th>0</th>\n",
              "      <td>1</td>\n",
              "      <td>828.235294</td>\n",
              "      <td>0.138889</td>\n",
              "      <td>321.428571</td>\n",
              "      <td>625.911006</td>\n",
              "      <td>1.818182</td>\n",
              "      <td>1.081550</td>\n",
              "      <td>198.113469</td>\n",
              "      <td>NaN</td>\n",
              "      <td>58.632548</td>\n",
              "      <td>0.279273</td>\n",
              "      <td>100.083403</td>\n",
              "      <td>1.0</td>\n",
              "      <td>1</td>\n",
              "      <td>1.0</td>\n",
              "      <td>1.540594</td>\n",
              "      <td>NaN</td>\n",
              "      <td>1</td>\n",
              "      <td>0</td>\n",
              "      <td>100.104991</td>\n",
              "      <td>Low</td>\n",
              "    </tr>\n",
              "    <tr>\n",
              "      <th>1</th>\n",
              "      <td>2</td>\n",
              "      <td>911.764706</td>\n",
              "      <td>0.027778</td>\n",
              "      <td>NaN</td>\n",
              "      <td>611.574748</td>\n",
              "      <td>8.181818</td>\n",
              "      <td>1.344479</td>\n",
              "      <td>198.600020</td>\n",
              "      <td>22.086661</td>\n",
              "      <td>NaN</td>\n",
              "      <td>NaN</td>\n",
              "      <td>15.012510</td>\n",
              "      <td>NaN</td>\n",
              "      <td>1</td>\n",
              "      <td>NaN</td>\n",
              "      <td>1.614613</td>\n",
              "      <td>NaN</td>\n",
              "      <td>0</td>\n",
              "      <td>1</td>\n",
              "      <td>146.654045</td>\n",
              "      <td>High</td>\n",
              "    </tr>\n",
              "    <tr>\n",
              "      <th>2</th>\n",
              "      <td>3</td>\n",
              "      <td>962.352941</td>\n",
              "      <td>0.833333</td>\n",
              "      <td>35.714286</td>\n",
              "      <td>615.825381</td>\n",
              "      <td>8.181818</td>\n",
              "      <td>0.720796</td>\n",
              "      <td>197.267767</td>\n",
              "      <td>NaN</td>\n",
              "      <td>58.632548</td>\n",
              "      <td>0.453212</td>\n",
              "      <td>210.175146</td>\n",
              "      <td>10.0</td>\n",
              "      <td>1</td>\n",
              "      <td>10.0</td>\n",
              "      <td>1.044599</td>\n",
              "      <td>NaN</td>\n",
              "      <td>0</td>\n",
              "      <td>0</td>\n",
              "      <td>98.249570</td>\n",
              "      <td>Medium</td>\n",
              "    </tr>\n",
              "    <tr>\n",
              "      <th>3</th>\n",
              "      <td>4</td>\n",
              "      <td>892.941177</td>\n",
              "      <td>NaN</td>\n",
              "      <td>NaN</td>\n",
              "      <td>638.076431</td>\n",
              "      <td>9.090909</td>\n",
              "      <td>0.820218</td>\n",
              "      <td>197.355744</td>\n",
              "      <td>4.363431</td>\n",
              "      <td>58.632548</td>\n",
              "      <td>NaN</td>\n",
              "      <td>NaN</td>\n",
              "      <td>NaN</td>\n",
              "      <td>1</td>\n",
              "      <td>NaN</td>\n",
              "      <td>1.145729</td>\n",
              "      <td>NaN</td>\n",
              "      <td>1</td>\n",
              "      <td>0</td>\n",
              "      <td>140.862306</td>\n",
              "      <td>Low</td>\n",
              "    </tr>\n",
              "    <tr>\n",
              "      <th>4</th>\n",
              "      <td>5</td>\n",
              "      <td>914.117647</td>\n",
              "      <td>0.083333</td>\n",
              "      <td>NaN</td>\n",
              "      <td>626.514988</td>\n",
              "      <td>5.181818</td>\n",
              "      <td>1.372928</td>\n",
              "      <td>198.790477</td>\n",
              "      <td>85.938202</td>\n",
              "      <td>58.632548</td>\n",
              "      <td>NaN</td>\n",
              "      <td>210.175146</td>\n",
              "      <td>NaN</td>\n",
              "      <td>NaN</td>\n",
              "      <td>NaN</td>\n",
              "      <td>1.558341</td>\n",
              "      <td>NaN</td>\n",
              "      <td>1</td>\n",
              "      <td>0</td>\n",
              "      <td>101.268503</td>\n",
              "      <td>High</td>\n",
              "    </tr>\n",
              "  </tbody>\n",
              "</table>\n",
              "</div>"
            ],
            "text/plain": [
              "   VAR1        VAR2      VAR3        VAR4  ...  VAR18  VAR19       VAR20   VAR21\n",
              "0     1  828.235294  0.138889  321.428571  ...      1      0  100.104991     Low\n",
              "1     2  911.764706  0.027778         NaN  ...      0      1  146.654045    High\n",
              "2     3  962.352941  0.833333   35.714286  ...      0      0   98.249570  Medium\n",
              "3     4  892.941177       NaN         NaN  ...      1      0  140.862306     Low\n",
              "4     5  914.117647  0.083333         NaN  ...      1      0  101.268503    High\n",
              "\n",
              "[5 rows x 21 columns]"
            ]
          },
          "metadata": {
            "tags": []
          },
          "execution_count": 162
        }
      ]
    },
    {
      "cell_type": "code",
      "metadata": {
        "id": "U2snvgm_cQwu",
        "colab_type": "code",
        "colab": {}
      },
      "source": [
        "from sklearn.preprocessing import LabelEncoder\n",
        "\n",
        "labelencoder_y1 = LabelEncoder()\n",
        "#labelencoder_x1 = LabelEncoder()\n",
        "train.iloc[:,-1] = labelencoder_y1.fit_transform(train.iloc[:,-1].values)"
      ],
      "execution_count": null,
      "outputs": []
    },
    {
      "cell_type": "code",
      "metadata": {
        "id": "s46kVdQOcQwy",
        "colab_type": "code",
        "colab": {
          "base_uri": "https://localhost:8080/",
          "height": 224
        },
        "outputId": "3e1247f5-53c5-49bc-d063-c385f37904bc"
      },
      "source": [
        "train.head()"
      ],
      "execution_count": null,
      "outputs": [
        {
          "output_type": "execute_result",
          "data": {
            "text/html": [
              "<div>\n",
              "<style scoped>\n",
              "    .dataframe tbody tr th:only-of-type {\n",
              "        vertical-align: middle;\n",
              "    }\n",
              "\n",
              "    .dataframe tbody tr th {\n",
              "        vertical-align: top;\n",
              "    }\n",
              "\n",
              "    .dataframe thead th {\n",
              "        text-align: right;\n",
              "    }\n",
              "</style>\n",
              "<table border=\"1\" class=\"dataframe\">\n",
              "  <thead>\n",
              "    <tr style=\"text-align: right;\">\n",
              "      <th></th>\n",
              "      <th>VAR1</th>\n",
              "      <th>VAR2</th>\n",
              "      <th>VAR3</th>\n",
              "      <th>VAR4</th>\n",
              "      <th>VAR5</th>\n",
              "      <th>VAR6</th>\n",
              "      <th>VAR7</th>\n",
              "      <th>VAR8</th>\n",
              "      <th>VAR9</th>\n",
              "      <th>VAR10</th>\n",
              "      <th>VAR11</th>\n",
              "      <th>VAR12</th>\n",
              "      <th>VAR13</th>\n",
              "      <th>VAR15</th>\n",
              "      <th>VAR16</th>\n",
              "      <th>VAR17</th>\n",
              "      <th>VAR20</th>\n",
              "      <th>VAR21</th>\n",
              "    </tr>\n",
              "  </thead>\n",
              "  <tbody>\n",
              "    <tr>\n",
              "      <th>0</th>\n",
              "      <td>1</td>\n",
              "      <td>828.235294</td>\n",
              "      <td>0.138889</td>\n",
              "      <td>321.428571</td>\n",
              "      <td>625.911006</td>\n",
              "      <td>1.818182</td>\n",
              "      <td>1.081550</td>\n",
              "      <td>198.113469</td>\n",
              "      <td>NaN</td>\n",
              "      <td>58.632548</td>\n",
              "      <td>0.279273</td>\n",
              "      <td>100.083403</td>\n",
              "      <td>1.0</td>\n",
              "      <td>1.0</td>\n",
              "      <td>1.540594</td>\n",
              "      <td>NaN</td>\n",
              "      <td>100.104991</td>\n",
              "      <td>1</td>\n",
              "    </tr>\n",
              "    <tr>\n",
              "      <th>1</th>\n",
              "      <td>2</td>\n",
              "      <td>911.764706</td>\n",
              "      <td>0.027778</td>\n",
              "      <td>NaN</td>\n",
              "      <td>611.574748</td>\n",
              "      <td>8.181818</td>\n",
              "      <td>1.344479</td>\n",
              "      <td>198.600020</td>\n",
              "      <td>22.086661</td>\n",
              "      <td>NaN</td>\n",
              "      <td>NaN</td>\n",
              "      <td>15.012510</td>\n",
              "      <td>NaN</td>\n",
              "      <td>NaN</td>\n",
              "      <td>1.614613</td>\n",
              "      <td>NaN</td>\n",
              "      <td>146.654045</td>\n",
              "      <td>0</td>\n",
              "    </tr>\n",
              "    <tr>\n",
              "      <th>2</th>\n",
              "      <td>3</td>\n",
              "      <td>962.352941</td>\n",
              "      <td>0.833333</td>\n",
              "      <td>35.714286</td>\n",
              "      <td>615.825381</td>\n",
              "      <td>8.181818</td>\n",
              "      <td>0.720796</td>\n",
              "      <td>197.267767</td>\n",
              "      <td>NaN</td>\n",
              "      <td>58.632548</td>\n",
              "      <td>0.453212</td>\n",
              "      <td>210.175146</td>\n",
              "      <td>10.0</td>\n",
              "      <td>10.0</td>\n",
              "      <td>1.044599</td>\n",
              "      <td>NaN</td>\n",
              "      <td>98.249570</td>\n",
              "      <td>2</td>\n",
              "    </tr>\n",
              "    <tr>\n",
              "      <th>3</th>\n",
              "      <td>4</td>\n",
              "      <td>892.941177</td>\n",
              "      <td>NaN</td>\n",
              "      <td>NaN</td>\n",
              "      <td>638.076431</td>\n",
              "      <td>9.090909</td>\n",
              "      <td>0.820218</td>\n",
              "      <td>197.355744</td>\n",
              "      <td>4.363431</td>\n",
              "      <td>58.632548</td>\n",
              "      <td>NaN</td>\n",
              "      <td>NaN</td>\n",
              "      <td>NaN</td>\n",
              "      <td>NaN</td>\n",
              "      <td>1.145729</td>\n",
              "      <td>NaN</td>\n",
              "      <td>140.862306</td>\n",
              "      <td>1</td>\n",
              "    </tr>\n",
              "    <tr>\n",
              "      <th>4</th>\n",
              "      <td>5</td>\n",
              "      <td>914.117647</td>\n",
              "      <td>0.083333</td>\n",
              "      <td>NaN</td>\n",
              "      <td>626.514988</td>\n",
              "      <td>5.181818</td>\n",
              "      <td>1.372928</td>\n",
              "      <td>198.790477</td>\n",
              "      <td>85.938202</td>\n",
              "      <td>58.632548</td>\n",
              "      <td>NaN</td>\n",
              "      <td>210.175146</td>\n",
              "      <td>NaN</td>\n",
              "      <td>NaN</td>\n",
              "      <td>1.558341</td>\n",
              "      <td>NaN</td>\n",
              "      <td>101.268503</td>\n",
              "      <td>0</td>\n",
              "    </tr>\n",
              "  </tbody>\n",
              "</table>\n",
              "</div>"
            ],
            "text/plain": [
              "   VAR1        VAR2      VAR3        VAR4  ...     VAR16  VAR17       VAR20  VAR21\n",
              "0     1  828.235294  0.138889  321.428571  ...  1.540594    NaN  100.104991      1\n",
              "1     2  911.764706  0.027778         NaN  ...  1.614613    NaN  146.654045      0\n",
              "2     3  962.352941  0.833333   35.714286  ...  1.044599    NaN   98.249570      2\n",
              "3     4  892.941177       NaN         NaN  ...  1.145729    NaN  140.862306      1\n",
              "4     5  914.117647  0.083333         NaN  ...  1.558341    NaN  101.268503      0\n",
              "\n",
              "[5 rows x 18 columns]"
            ]
          },
          "metadata": {
            "tags": []
          },
          "execution_count": 203
        }
      ]
    },
    {
      "cell_type": "code",
      "metadata": {
        "id": "HZGdfcGveydV",
        "colab_type": "code",
        "colab": {}
      },
      "source": [
        "'''del train['VAR14']\n",
        "del train['VAR18']\n",
        "del train['VAR19']'''\n",
        "del train['VAR10']\n",
        "del train['VAR17']\n",
        "del train['VAR15']"
      ],
      "execution_count": null,
      "outputs": []
    },
    {
      "cell_type": "code",
      "metadata": {
        "id": "xXIrvB9HcQw3",
        "colab_type": "code",
        "colab": {}
      },
      "source": [
        "def modelfit(alg, dtrain, predictors,useTrainCV=True, cv_folds=5, early_stopping_rounds=50):\n",
        "    \n",
        "    if useTrainCV:\n",
        "        xgb_param = alg.get_xgb_params()\n",
        "        xgb_param['num_class'] = 3\n",
        "        xgtrain = xgb.DMatrix(dtrain[predictors].values, label=dtrain[target].values)\n",
        "        cvresult = xgb.cv(xgb_param, xgtrain, num_boost_round=alg.get_params()['n_estimators'], nfold=cv_folds,\n",
        "            metrics='merror', early_stopping_rounds=early_stopping_rounds)\n",
        "        alg.set_params(n_estimators=cvresult.shape[0])\n",
        "    \n",
        "    #Fit the algorithm on the data\n",
        "    alg.fit(dtrain[predictors], dtrain[target],eval_metric='auc')\n",
        "        \n",
        "    #Predict training set:\n",
        "    dtrain_predictions = alg.predict(dtrain[predictors])\n",
        "    dtrain_predprob = alg.predict_proba(dtrain[predictors])[:,1]\n",
        "        \n",
        "    #Print model report:\n",
        "    print (\"\\nModel Report\")\n",
        "    print (\"Accuracy : %.4g\" % metrics.accuracy_score(dtrain[target].values, dtrain_predictions))\n",
        "    #print (\"AUC Score (Train): %f\" % metrics.roc_auc_score(dtrain[target], dtrain_predprob))\n",
        "    \n",
        "    #feat_imp = pd.Series(alg.feature_importances_, index = predictors)\n",
        "    feat_imp = pd.Series(alg.get_booster().get_fscore()).sort_values(ascending=False)\n",
        "    feat_imp.plot(kind='bar', title='Feature Importances')\n",
        "    plt.ylabel('Feature Importance Score')"
      ],
      "execution_count": null,
      "outputs": []
    },
    {
      "cell_type": "code",
      "metadata": {
        "id": "F4yfPPUZcQxG",
        "colab_type": "code",
        "colab": {}
      },
      "source": [
        "#Choose all predictors except target & IDcols\n",
        "predictors = [x for x in train.columns if x not in [target, IDcol]]\n",
        "\n",
        "xgb1 = XGBClassifier(\n",
        " learning_rate =0.1,\n",
        " n_estimators=700,\n",
        " max_depth=6,\n",
        " min_child_weight=1,\n",
        " gamma=0,\n",
        " subsample=1,\n",
        " colsample_bytree=1,\n",
        " objective= 'multi:softmax',\n",
        " nthread=4,\n",
        " scale_pos_weight=1,\n",
        " random_state=27, reg_lambda=1)\n",
        "\n",
        "#predictors"
      ],
      "execution_count": null,
      "outputs": []
    },
    {
      "cell_type": "code",
      "metadata": {
        "id": "nGPrNMNscQxN",
        "colab_type": "code",
        "colab": {
          "base_uri": "https://localhost:8080/",
          "height": 356
        },
        "outputId": "116b76cb-135f-41cf-de26-e5a3583a5825"
      },
      "source": [
        "modelfit(xgb1, train, predictors)"
      ],
      "execution_count": null,
      "outputs": [
        {
          "output_type": "stream",
          "text": [
            "\n",
            "Model Report\n",
            "Accuracy : 0.643\n"
          ],
          "name": "stdout"
        },
        {
          "output_type": "display_data",
          "data": {
            "image/png": "[encoded data removed]",
            "text/plain": [
              "<Figure size 864x288 with 1 Axes>"
            ]
          },
          "metadata": {
            "tags": []
          }
        }
      ]
    },
    {
      "cell_type": "markdown",
      "metadata": {
        "id": "wb4JNFNGcQyD",
        "colab_type": "text"
      },
      "source": [
        "#### Leaderboard Prediction (Tuned XGBoost)"
      ]
    },
    {
      "cell_type": "code",
      "metadata": {
        "id": "-e_2KexocQyH",
        "colab_type": "code",
        "colab": {}
      },
      "source": [
        "lead = df_lead\n",
        "lead_predictors = [x for x in lead.columns if x not in [IDcol]]\n",
        "#lead_predictors"
      ],
      "execution_count": null,
      "outputs": []
    },
    {
      "cell_type": "code",
      "metadata": {
        "id": "JZflvPSXkneN",
        "colab_type": "code",
        "colab": {}
      },
      "source": [
        "#del lead['VAR1']\n",
        "#del train['VAR1']\n",
        "'''del lead['VAR1']\n",
        "del lead['VAR14']\n",
        "del lead['VAR18']\n",
        "del lead['VAR19']'''\n",
        "#del lead['VAR10']\n",
        "del lead['VAR15']\n",
        "del lead['VAR17']"
      ],
      "execution_count": null,
      "outputs": []
    },
    {
      "cell_type": "code",
      "metadata": {
        "id": "mKdPWiHNlc0q",
        "colab_type": "code",
        "colab": {}
      },
      "source": [
        "lead.columns = predictors"
      ],
      "execution_count": null,
      "outputs": []
    },
    {
      "cell_type": "code",
      "metadata": {
        "id": "YVduNIBfcQyQ",
        "colab_type": "code",
        "colab": {}
      },
      "source": [
        "lead_predictions = xgb1.predict(lead)"
      ],
      "execution_count": null,
      "outputs": []
    },
    {
      "cell_type": "code",
      "metadata": {
        "id": "sxufm-apcQyY",
        "colab_type": "code",
        "colab": {
          "base_uri": "https://localhost:8080/",
          "height": 34
        },
        "outputId": "492d4cbc-7d35-48b3-936c-7d4ee25ea6cb"
      },
      "source": [
        "dlead = lead_predictions.tolist()\n",
        "len(lead_key), len(dlead)"
      ],
      "execution_count": null,
      "outputs": [
        {
          "output_type": "execute_result",
          "data": {
            "text/plain": [
              "(10000, 10000)"
            ]
          },
          "metadata": {
            "tags": []
          },
          "execution_count": 254
        }
      ]
    },
    {
      "cell_type": "code",
      "metadata": {
        "id": "T_5f-jt9cQye",
        "colab_type": "code",
        "colab": {
          "base_uri": "https://localhost:8080/",
          "height": 51
        },
        "outputId": "b9ede33e-c539-4bad-93f9-2dcce4be81d5"
      },
      "source": [
        "dylead = labelencoder_y1.inverse_transform(lead_predictions)\n",
        "dylead"
      ],
      "execution_count": null,
      "outputs": [
        {
          "output_type": "execute_result",
          "data": {
            "text/plain": [
              "array(['Medium', 'Low', 'Medium', ..., 'Medium', 'Medium', 'Medium'],\n",
              "      dtype=object)"
            ]
          },
          "metadata": {
            "tags": []
          },
          "execution_count": 255
        }
      ]
    },
    {
      "cell_type": "code",
      "metadata": {
        "id": "Cj_WZFEMcQzR",
        "colab_type": "code",
        "colab": {
          "base_uri": "https://localhost:8080/",
          "height": 312
        },
        "outputId": "5644d469-768d-41aa-e39a-701cef0c6b37"
      },
      "source": [
        "n_count_classes = pd.value_counts(dylead, sort = True)\n",
        "n_count_classes.plot(kind = 'bar', rot=0)\n",
        "plt.title(\"Credit Card limit\")\n",
        "#plt.xticks(range(2), LABELS)\n",
        "plt.xlabel(\"Class\")\n",
        "plt.ylabel(\"Frequency\")"
      ],
      "execution_count": null,
      "outputs": [
        {
          "output_type": "execute_result",
          "data": {
            "text/plain": [
              "Text(0, 0.5, 'Frequency')"
            ]
          },
          "metadata": {
            "tags": []
          },
          "execution_count": 256
        },
        {
          "output_type": "display_data",
          "data": {
            "image/png": "[encoded data removed]",
            "text/plain": [
              "<Figure size 864x288 with 1 Axes>"
            ]
          },
          "metadata": {
            "tags": []
          }
        }
      ]
    },
    {
      "cell_type": "code",
      "metadata": {
        "id": "uMjcIJBenUK6",
        "colab_type": "code",
        "colab": {
          "base_uri": "https://localhost:8080/",
          "height": 204
        },
        "outputId": "ea021cd8-8bd9-481a-8fec-9b5920adae6b"
      },
      "source": [
        "fxy = pd.DataFrame(dylead,lead_key)\n",
        "fxy.head()"
      ],
      "execution_count": null,
      "outputs": [
        {
          "output_type": "execute_result",
          "data": {
            "text/html": [
              "<div>\n",
              "<style scoped>\n",
              "    .dataframe tbody tr th:only-of-type {\n",
              "        vertical-align: middle;\n",
              "    }\n",
              "\n",
              "    .dataframe tbody tr th {\n",
              "        vertical-align: top;\n",
              "    }\n",
              "\n",
              "    .dataframe thead th {\n",
              "        text-align: right;\n",
              "    }\n",
              "</style>\n",
              "<table border=\"1\" class=\"dataframe\">\n",
              "  <thead>\n",
              "    <tr style=\"text-align: right;\">\n",
              "      <th></th>\n",
              "      <th>0</th>\n",
              "    </tr>\n",
              "  </thead>\n",
              "  <tbody>\n",
              "    <tr>\n",
              "      <th>1</th>\n",
              "      <td>Medium</td>\n",
              "    </tr>\n",
              "    <tr>\n",
              "      <th>2</th>\n",
              "      <td>Low</td>\n",
              "    </tr>\n",
              "    <tr>\n",
              "      <th>3</th>\n",
              "      <td>Medium</td>\n",
              "    </tr>\n",
              "    <tr>\n",
              "      <th>4</th>\n",
              "      <td>Medium</td>\n",
              "    </tr>\n",
              "    <tr>\n",
              "      <th>5</th>\n",
              "      <td>Medium</td>\n",
              "    </tr>\n",
              "  </tbody>\n",
              "</table>\n",
              "</div>"
            ],
            "text/plain": [
              "        0\n",
              "1  Medium\n",
              "2     Low\n",
              "3  Medium\n",
              "4  Medium\n",
              "5  Medium"
            ]
          },
          "metadata": {
            "tags": []
          },
          "execution_count": 257
        }
      ]
    },
    {
      "cell_type": "code",
      "metadata": {
        "id": "gAtVexzanqps",
        "colab_type": "code",
        "colab": {}
      },
      "source": [
        "fxy.to_csv('Anonymous_IITRoorkee_34.csv', header=False)"
      ],
      "execution_count": null,
      "outputs": []
    },
    {
      "cell_type": "markdown",
      "metadata": {
        "id": "8qPoWvr7cQzX",
        "colab_type": "text"
      },
      "source": [
        "#### Grid Search"
      ]
    },
    {
      "cell_type": "code",
      "metadata": {
        "id": "GAGsxlNecQza",
        "colab_type": "code",
        "colab": {
          "base_uri": "https://localhost:8080/",
          "height": 238
        },
        "outputId": "00efcda7-478c-498c-fce4-556eb0436f7e"
      },
      "source": [
        "param_test1 = {\n",
        " 'n_estimators':range(700, 1500,200)\n",
        "}\n",
        "\n",
        "gsearch1 = GridSearchCV(estimator = XGBClassifier( learning_rate =0.1, n_estimators=1000, max_depth=6,\n",
        " min_child_weight=2, gamma=0.25, subsample=0.8, colsample_bytree=0.8,\n",
        " objective= 'multi:softmax', nthread=4, scale_pos_weight=1, seed=27), \n",
        " param_grid = param_test1, scoring='f1_micro',n_jobs=4,iid=False, cv=5)\n",
        "\n",
        "gsearch1.fit(train[predictors],train[target])"
      ],
      "execution_count": null,
      "outputs": [
        {
          "output_type": "error",
          "ename": "NameError",
          "evalue": "ignored",
          "traceback": [
            "\u001b[0;31m---------------------------------------------------------------------------\u001b[0m",
            "\u001b[0;31mNameError\u001b[0m                                 Traceback (most recent call last)",
            "\u001b[0;32m<ipython-input-1-0d4e26b7853a>\u001b[0m in \u001b[0;36m<module>\u001b[0;34m()\u001b[0m\n\u001b[1;32m      3\u001b[0m }\n\u001b[1;32m      4\u001b[0m \u001b[0;34m\u001b[0m\u001b[0m\n\u001b[0;32m----> 5\u001b[0;31m gsearch1 = GridSearchCV(estimator = XGBClassifier( learning_rate =0.1, n_estimators=1000, max_depth=6,\n\u001b[0m\u001b[1;32m      6\u001b[0m  \u001b[0mmin_child_weight\u001b[0m\u001b[0;34m=\u001b[0m\u001b[0;36m2\u001b[0m\u001b[0;34m,\u001b[0m \u001b[0mgamma\u001b[0m\u001b[0;34m=\u001b[0m\u001b[0;36m0.25\u001b[0m\u001b[0;34m,\u001b[0m \u001b[0msubsample\u001b[0m\u001b[0;34m=\u001b[0m\u001b[0;36m0.8\u001b[0m\u001b[0;34m,\u001b[0m \u001b[0mcolsample_bytree\u001b[0m\u001b[0;34m=\u001b[0m\u001b[0;36m0.8\u001b[0m\u001b[0;34m,\u001b[0m\u001b[0;34m\u001b[0m\u001b[0;34m\u001b[0m\u001b[0m\n\u001b[1;32m      7\u001b[0m  objective= 'multi:softmax', nthread=4, scale_pos_weight=1, seed=27), \n",
            "\u001b[0;31mNameError\u001b[0m: name 'GridSearchCV' is not defined"
          ]
        }
      ]
    },
    {
      "cell_type": "code",
      "metadata": {
        "id": "AOvob7IdcQzf",
        "colab_type": "code",
        "colab": {}
      },
      "source": [
        ""
      ],
      "execution_count": null,
      "outputs": []
    }
  ]
}